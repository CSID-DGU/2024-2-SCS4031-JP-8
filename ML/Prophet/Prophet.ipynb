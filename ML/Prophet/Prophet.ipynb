{
 "cells": [
  {
   "cell_type": "code",
   "execution_count": 7,
   "metadata": {},
   "outputs": [],
   "source": [
    "### 1번 블럭: 기본 설정 및 데이터 준비\n",
    "\n",
    "import pandas as pd\n",
    "import numpy as np\n",
    "import os\n",
    "from prophet import Prophet\n",
    "from sklearn.metrics import mean_squared_error, mean_absolute_error\n",
    "import warnings\n",
    "warnings.filterwarnings('ignore')\n",
    "\n",
    "# 데이터 읽기\n",
    "base_path = '/Users/foxrainswap/Desktop/데이터/재차인원/5000B/합본'\n",
    "train_data = pd.read_csv(os.path.join(base_path, '트레이닝셋_정규화x_이상치제거.csv'))\n",
    "test_data = pd.read_csv(os.path.join(base_path, '테스트셋_정규화x.csv'))\n",
    "\n",
    "# 날짜 변환\n",
    "train_data['날짜'] = pd.to_datetime(train_data['날짜'])\n",
    "test_data['날짜'] = pd.to_datetime(test_data['날짜'])\n",
    "\n",
    "def prepare_data(data):\n",
    "    \"\"\"데이터 전처리 - Prophet 형식에 맞게 변환\"\"\"\n",
    "    time_columns = ['04시', '05시', '06시', '07시', '08시', '09시', '10시', \n",
    "                   '11시', '12시', '13시', '14시', '15시', '16시', '17시', \n",
    "                   '18시', '19시', '20시', '21시', '22시', '23시', '00시', \n",
    "                   '01시', '02시', '03시']\n",
    "    \n",
    "    melted_data = pd.melt(data, \n",
    "                         id_vars=['날짜', '정류장순번', '정류장명', '요일'], \n",
    "                         value_vars=time_columns,\n",
    "                         var_name='시간', \n",
    "                         value_name='y')  # Prophet은 타겟변수를 'y'로 사용\n",
    "    \n",
    "    # datetime 컬럼을 'ds' 로 변환 (Prophet 요구사항)\n",
    "    melted_data['ds'] = pd.to_datetime(melted_data['날짜'].astype(str) + ' ' + \n",
    "                                     melted_data['시간'].str.replace('시', ':00'))\n",
    "    \n",
    "    # 평일/토요일/일요일 구분\n",
    "    melted_data['요일구분'] = melted_data['요일'].map({\n",
    "        '토요일': '토요일',\n",
    "        '일요일': '일요일'\n",
    "    }).fillna('평일')\n",
    "    \n",
    "    melted_data.sort_values(['정류장순번', 'ds'], inplace=True)\n",
    "    \n",
    "    return melted_data\n",
    "\n",
    "def post_process_predictions(predictions):\n",
    "    \"\"\"예측값 후처리\"\"\"\n",
    "    processed = predictions.copy()\n",
    "    processed[processed < 1] = 0  # 1미만 값을 0으로\n",
    "    processed[processed < 0] = 0  # 음수 값을 0으로\n",
    "    return processed\n",
    "\n",
    "def calculate_evaluation_metrics(y_true, y_pred):\n",
    "    \"\"\"평가 지표 계산\"\"\"\n",
    "    # 예측값 후처리\n",
    "    processed_pred = post_process_predictions(y_pred)\n",
    "    \n",
    "    # 기본 지표 계산\n",
    "    mae = mean_absolute_error(y_true, processed_pred)\n",
    "    rmse = np.sqrt(mean_squared_error(y_true, processed_pred))\n",
    "    \n",
    "    # SMAPE 계산\n",
    "    numerator = np.abs(y_true - processed_pred)\n",
    "    denominator = np.abs(y_true) + np.abs(processed_pred)\n",
    "    \n",
    "    zero_mask = denominator == 0\n",
    "    smape = np.mean(\n",
    "        np.where(zero_mask, 0, numerator / denominator)\n",
    "    ) * 200\n",
    "    \n",
    "    return {\n",
    "        'MAE': mae,\n",
    "        'RMSE': rmse,\n",
    "        'SMAPE': smape\n",
    "    }"
   ]
  },
  {
   "cell_type": "code",
   "execution_count": 8,
   "metadata": {},
   "outputs": [],
   "source": [
    "### 2번 블럭: Prophet 분석 함수\n",
    "\n",
    "def analyze_all_stations_prophet(train_data, test_data):\n",
    "    \"\"\"모든 정류장에 대한 Prophet 분석 수행\"\"\"\n",
    "    time_columns = ['04시', '05시', '06시', '07시', '08시', '09시', '10시', \n",
    "                   '11시', '12시', '13시', '14시', '15시', '16시', '17시', \n",
    "                   '18시', '19시', '20시', '21시', '22시', '23시', '00시', \n",
    "                   '01시', '02시', '03시']\n",
    "    \n",
    "    # 운행 시간대 정의\n",
    "    operating_hours = ['12시', '13시', '14시', '15시', '16시', '17시', \n",
    "                      '18시', '19시', '20시', '21시', '22시', '23시', \n",
    "                      '00시', '01시']\n",
    "    \n",
    "    # 첨두시간대 정의\n",
    "    peak_hours = ['17시', '18시', '19시', '22시', '23시']\n",
    "    \n",
    "    prepared_train = prepare_data(train_data)\n",
    "    prepared_test = prepare_data(test_data)\n",
    "    \n",
    "    weekday_results = []\n",
    "    saturday_results = []\n",
    "    sunday_results = []\n",
    "    evaluation_results = []\n",
    "    \n",
    "    all_stations = train_data['정류장순번'].unique()\n",
    "    total_stations = len(all_stations)\n",
    "\n",
    "    for idx, station_id in enumerate(all_stations, 1):\n",
    "        print(f\"\\n정류장 처리 중... ({idx}/{total_stations})\")\n",
    "        station_name = train_data[train_data['정류장순번'] == station_id]['정류장명'].iloc[0]\n",
    "        \n",
    "        for day_type in ['평일', '토요일', '일요일']:\n",
    "            try:\n",
    "                # 데이터 준비\n",
    "                train_station = prepared_train[\n",
    "                    (prepared_train['요일구분'] == day_type) & \n",
    "                    (prepared_train['정류장순번'] == station_id)\n",
    "                ].sort_values('ds').reset_index(drop=True)\n",
    "                \n",
    "                test_station = prepared_test[\n",
    "                    (prepared_test['요일구분'] == day_type) & \n",
    "                    (prepared_test['정류장순번'] == station_id)\n",
    "                ].sort_values('ds').reset_index(drop=True)\n",
    "                \n",
    "                # Prophet 모델 학습\n",
    "                model = Prophet(\n",
    "                    yearly_seasonality=False,\n",
    "                    weekly_seasonality=False,\n",
    "                    daily_seasonality=True,\n",
    "                    changepoint_prior_scale=0.05\n",
    "                )\n",
    "                \n",
    "                model.fit(train_station[['ds', 'y']])\n",
    "                \n",
    "                # 예측 수행\n",
    "                future = test_station[['ds']].copy()\n",
    "                forecast = model.predict(future)\n",
    "                predictions = forecast['yhat'].values\n",
    "                \n",
    "                # 시간대별 평균 예측값 계산\n",
    "                predictions_by_hour = {}\n",
    "                test_station['시간'] = test_station['ds'].dt.strftime('%H시')\n",
    "                unique_times = test_station['시간'].unique()\n",
    "                pred_splits = np.array_split(predictions, len(unique_times))\n",
    "                \n",
    "                for time, preds in zip(unique_times, pred_splits):\n",
    "                    predictions_by_hour[time] = np.mean(preds) if time in operating_hours else 0\n",
    "                \n",
    "                # 결과 저장\n",
    "                result_dict = {\n",
    "                    '정류장순번': station_id,\n",
    "                    '정류장명': station_name\n",
    "                }\n",
    "                for time in time_columns:\n",
    "                    result_dict[time] = predictions_by_hour.get(time, 0)\n",
    "                \n",
    "                # 요일별 결과 저장\n",
    "                if day_type == '평일':\n",
    "                    weekday_results.append(result_dict)\n",
    "                elif day_type == '토요일':\n",
    "                    saturday_results.append(result_dict)\n",
    "                else:  # 일요일\n",
    "                    sunday_results.append(result_dict)\n",
    "                \n",
    "                # 평가 수행\n",
    "                # 전체 운행시간대 평가\n",
    "                test_station_operating = test_station[test_station['시간'].isin(operating_hours)].copy()\n",
    "                operating_predictions = np.array([pred for i, pred in enumerate(predictions) \n",
    "                                               if test_station.iloc[i]['시간'] in operating_hours])\n",
    "                \n",
    "                # 첨두시간대 평가\n",
    "                test_station_peak = test_station[test_station['시간'].isin(peak_hours)].copy()\n",
    "                peak_predictions = np.array([pred for i, pred in enumerate(predictions) \n",
    "                                          if test_station.iloc[i]['시간'] in peak_hours])\n",
    "                \n",
    "                # 평가 지표 계산\n",
    "                operating_metrics = calculate_evaluation_metrics(\n",
    "                    test_station_operating['y'].values,\n",
    "                    operating_predictions\n",
    "                )\n",
    "                \n",
    "                peak_metrics = calculate_evaluation_metrics(\n",
    "                    test_station_peak['y'].values,\n",
    "                    peak_predictions\n",
    "                )\n",
    "                \n",
    "                evaluation_results.append({\n",
    "                    '정류장순번': station_id,\n",
    "                    '정류장명': station_name,\n",
    "                    '요일구분': day_type,\n",
    "                    '구분': '전체',\n",
    "                    **operating_metrics\n",
    "                })\n",
    "                \n",
    "                evaluation_results.append({\n",
    "                    '정류장순번': station_id,\n",
    "                    '정류장명': station_name,\n",
    "                    '요일구분': day_type,\n",
    "                    '구분': '첨두',\n",
    "                    **peak_metrics\n",
    "                })\n",
    "                \n",
    "            except Exception as e:\n",
    "                print(f\"오류 발생 - 정류장: {station_id}, 구분: {day_type}\")\n",
    "                print(f\"오류 내용: {str(e)}\")\n",
    "                continue\n",
    "    \n",
    "    # 결과를 DataFrame으로 변환\n",
    "    weekday_df = pd.DataFrame(weekday_results)\n",
    "    saturday_df = pd.DataFrame(saturday_results)\n",
    "    sunday_df = pd.DataFrame(sunday_results)\n",
    "    evaluation_df = pd.DataFrame(evaluation_results)\n",
    "    \n",
    "    # 결과 저장\n",
    "    weekday_df.to_csv('prophet_predictions_weekday.csv', index=False)\n",
    "    saturday_df.to_csv('prophet_predictions_saturday.csv', index=False)\n",
    "    sunday_df.to_csv('prophet_predictions_sunday.csv', index=False)\n",
    "    evaluation_df.to_csv('prophet_evaluation.csv', index=False)\n",
    "    \n",
    "    return weekday_df, saturday_df, sunday_df, evaluation_df"
   ]
  },
  {
   "cell_type": "code",
   "execution_count": 9,
   "metadata": {},
   "outputs": [
    {
     "name": "stdout",
     "output_type": "stream",
     "text": [
      "\n",
      "Prophet 모델 실행 중...\n",
      "\n",
      "정류장 처리 중... (1/79)\n"
     ]
    },
    {
     "name": "stderr",
     "output_type": "stream",
     "text": [
      "21:29:29 - cmdstanpy - INFO - Chain [1] start processing\n",
      "21:29:31 - cmdstanpy - INFO - Chain [1] done processing\n",
      "21:29:31 - cmdstanpy - INFO - Chain [1] start processing\n",
      "21:29:31 - cmdstanpy - INFO - Chain [1] done processing\n",
      "21:29:32 - cmdstanpy - INFO - Chain [1] start processing\n",
      "21:29:32 - cmdstanpy - INFO - Chain [1] done processing\n",
      "21:29:32 - cmdstanpy - INFO - Chain [1] start processing\n"
     ]
    },
    {
     "name": "stdout",
     "output_type": "stream",
     "text": [
      "\n",
      "정류장 처리 중... (2/79)\n"
     ]
    },
    {
     "name": "stderr",
     "output_type": "stream",
     "text": [
      "21:29:32 - cmdstanpy - INFO - Chain [1] done processing\n",
      "21:29:33 - cmdstanpy - INFO - Chain [1] start processing\n",
      "21:29:33 - cmdstanpy - INFO - Chain [1] done processing\n",
      "21:29:33 - cmdstanpy - INFO - Chain [1] start processing\n",
      "21:29:33 - cmdstanpy - INFO - Chain [1] done processing\n",
      "21:29:33 - cmdstanpy - INFO - Chain [1] start processing\n"
     ]
    },
    {
     "name": "stdout",
     "output_type": "stream",
     "text": [
      "\n",
      "정류장 처리 중... (3/79)\n"
     ]
    },
    {
     "name": "stderr",
     "output_type": "stream",
     "text": [
      "21:29:33 - cmdstanpy - INFO - Chain [1] done processing\n",
      "21:29:34 - cmdstanpy - INFO - Chain [1] start processing\n",
      "21:29:34 - cmdstanpy - INFO - Chain [1] done processing\n",
      "21:29:34 - cmdstanpy - INFO - Chain [1] start processing\n",
      "21:29:34 - cmdstanpy - INFO - Chain [1] done processing\n",
      "21:29:34 - cmdstanpy - INFO - Chain [1] start processing\n"
     ]
    },
    {
     "name": "stdout",
     "output_type": "stream",
     "text": [
      "\n",
      "정류장 처리 중... (4/79)\n"
     ]
    },
    {
     "name": "stderr",
     "output_type": "stream",
     "text": [
      "21:29:34 - cmdstanpy - INFO - Chain [1] done processing\n",
      "21:29:35 - cmdstanpy - INFO - Chain [1] start processing\n",
      "21:29:35 - cmdstanpy - INFO - Chain [1] done processing\n",
      "21:29:35 - cmdstanpy - INFO - Chain [1] start processing\n",
      "21:29:35 - cmdstanpy - INFO - Chain [1] done processing\n",
      "21:29:35 - cmdstanpy - INFO - Chain [1] start processing\n"
     ]
    },
    {
     "name": "stdout",
     "output_type": "stream",
     "text": [
      "\n",
      "정류장 처리 중... (5/79)\n"
     ]
    },
    {
     "name": "stderr",
     "output_type": "stream",
     "text": [
      "21:29:36 - cmdstanpy - INFO - Chain [1] done processing\n",
      "21:29:36 - cmdstanpy - INFO - Chain [1] start processing\n",
      "21:29:36 - cmdstanpy - INFO - Chain [1] done processing\n",
      "21:29:36 - cmdstanpy - INFO - Chain [1] start processing\n",
      "21:29:37 - cmdstanpy - INFO - Chain [1] done processing\n",
      "21:29:37 - cmdstanpy - INFO - Chain [1] start processing\n"
     ]
    },
    {
     "name": "stdout",
     "output_type": "stream",
     "text": [
      "\n",
      "정류장 처리 중... (6/79)\n"
     ]
    },
    {
     "name": "stderr",
     "output_type": "stream",
     "text": [
      "21:29:37 - cmdstanpy - INFO - Chain [1] done processing\n",
      "21:29:38 - cmdstanpy - INFO - Chain [1] start processing\n",
      "21:29:38 - cmdstanpy - INFO - Chain [1] done processing\n",
      "21:29:38 - cmdstanpy - INFO - Chain [1] start processing\n",
      "21:29:38 - cmdstanpy - INFO - Chain [1] done processing\n",
      "21:29:38 - cmdstanpy - INFO - Chain [1] start processing\n"
     ]
    },
    {
     "name": "stdout",
     "output_type": "stream",
     "text": [
      "\n",
      "정류장 처리 중... (7/79)\n"
     ]
    },
    {
     "name": "stderr",
     "output_type": "stream",
     "text": [
      "21:29:39 - cmdstanpy - INFO - Chain [1] done processing\n",
      "21:29:39 - cmdstanpy - INFO - Chain [1] start processing\n",
      "21:29:39 - cmdstanpy - INFO - Chain [1] done processing\n",
      "21:29:40 - cmdstanpy - INFO - Chain [1] start processing\n",
      "21:29:40 - cmdstanpy - INFO - Chain [1] done processing\n"
     ]
    },
    {
     "name": "stdout",
     "output_type": "stream",
     "text": [
      "\n",
      "정류장 처리 중... (8/79)\n"
     ]
    },
    {
     "name": "stderr",
     "output_type": "stream",
     "text": [
      "21:29:41 - cmdstanpy - INFO - Chain [1] start processing\n",
      "21:29:41 - cmdstanpy - INFO - Chain [1] done processing\n",
      "21:29:42 - cmdstanpy - INFO - Chain [1] start processing\n",
      "21:29:42 - cmdstanpy - INFO - Chain [1] done processing\n",
      "21:29:42 - cmdstanpy - INFO - Chain [1] start processing\n",
      "21:29:42 - cmdstanpy - INFO - Chain [1] done processing\n",
      "21:29:42 - cmdstanpy - INFO - Chain [1] start processing\n"
     ]
    },
    {
     "name": "stdout",
     "output_type": "stream",
     "text": [
      "\n",
      "정류장 처리 중... (9/79)\n"
     ]
    },
    {
     "name": "stderr",
     "output_type": "stream",
     "text": [
      "21:29:43 - cmdstanpy - INFO - Chain [1] done processing\n",
      "21:29:43 - cmdstanpy - INFO - Chain [1] start processing\n",
      "21:29:43 - cmdstanpy - INFO - Chain [1] done processing\n",
      "21:29:44 - cmdstanpy - INFO - Chain [1] start processing\n",
      "21:29:44 - cmdstanpy - INFO - Chain [1] done processing\n",
      "21:29:44 - cmdstanpy - INFO - Chain [1] start processing\n"
     ]
    },
    {
     "name": "stdout",
     "output_type": "stream",
     "text": [
      "\n",
      "정류장 처리 중... (10/79)\n"
     ]
    },
    {
     "name": "stderr",
     "output_type": "stream",
     "text": [
      "21:29:44 - cmdstanpy - INFO - Chain [1] done processing\n",
      "21:29:45 - cmdstanpy - INFO - Chain [1] start processing\n",
      "21:29:45 - cmdstanpy - INFO - Chain [1] done processing\n",
      "21:29:45 - cmdstanpy - INFO - Chain [1] start processing\n",
      "21:29:45 - cmdstanpy - INFO - Chain [1] done processing\n",
      "21:29:46 - cmdstanpy - INFO - Chain [1] start processing\n"
     ]
    },
    {
     "name": "stdout",
     "output_type": "stream",
     "text": [
      "\n",
      "정류장 처리 중... (11/79)\n"
     ]
    },
    {
     "name": "stderr",
     "output_type": "stream",
     "text": [
      "21:29:46 - cmdstanpy - INFO - Chain [1] done processing\n",
      "21:29:47 - cmdstanpy - INFO - Chain [1] start processing\n",
      "21:29:47 - cmdstanpy - INFO - Chain [1] done processing\n",
      "21:29:47 - cmdstanpy - INFO - Chain [1] start processing\n",
      "21:29:47 - cmdstanpy - INFO - Chain [1] done processing\n",
      "21:29:48 - cmdstanpy - INFO - Chain [1] start processing\n"
     ]
    },
    {
     "name": "stdout",
     "output_type": "stream",
     "text": [
      "\n",
      "정류장 처리 중... (12/79)\n"
     ]
    },
    {
     "name": "stderr",
     "output_type": "stream",
     "text": [
      "21:29:48 - cmdstanpy - INFO - Chain [1] done processing\n",
      "21:29:49 - cmdstanpy - INFO - Chain [1] start processing\n",
      "21:29:49 - cmdstanpy - INFO - Chain [1] done processing\n",
      "21:29:49 - cmdstanpy - INFO - Chain [1] start processing\n",
      "21:29:49 - cmdstanpy - INFO - Chain [1] done processing\n",
      "21:29:49 - cmdstanpy - INFO - Chain [1] start processing\n"
     ]
    },
    {
     "name": "stdout",
     "output_type": "stream",
     "text": [
      "\n",
      "정류장 처리 중... (13/79)\n"
     ]
    },
    {
     "name": "stderr",
     "output_type": "stream",
     "text": [
      "21:29:50 - cmdstanpy - INFO - Chain [1] done processing\n",
      "21:29:50 - cmdstanpy - INFO - Chain [1] start processing\n",
      "21:29:50 - cmdstanpy - INFO - Chain [1] done processing\n",
      "21:29:50 - cmdstanpy - INFO - Chain [1] start processing\n",
      "21:29:50 - cmdstanpy - INFO - Chain [1] done processing\n",
      "21:29:50 - cmdstanpy - INFO - Chain [1] start processing\n",
      "21:29:50 - cmdstanpy - INFO - Chain [1] done processing\n"
     ]
    },
    {
     "name": "stdout",
     "output_type": "stream",
     "text": [
      "\n",
      "정류장 처리 중... (14/79)\n"
     ]
    },
    {
     "name": "stderr",
     "output_type": "stream",
     "text": [
      "21:29:51 - cmdstanpy - INFO - Chain [1] start processing\n",
      "21:29:51 - cmdstanpy - INFO - Chain [1] done processing\n",
      "21:29:51 - cmdstanpy - INFO - Chain [1] start processing\n",
      "21:29:51 - cmdstanpy - INFO - Chain [1] done processing\n",
      "21:29:51 - cmdstanpy - INFO - Chain [1] start processing\n",
      "21:29:51 - cmdstanpy - INFO - Chain [1] done processing\n"
     ]
    },
    {
     "name": "stdout",
     "output_type": "stream",
     "text": [
      "\n",
      "정류장 처리 중... (15/79)\n"
     ]
    },
    {
     "name": "stderr",
     "output_type": "stream",
     "text": [
      "21:29:52 - cmdstanpy - INFO - Chain [1] start processing\n",
      "21:29:52 - cmdstanpy - INFO - Chain [1] done processing\n",
      "21:29:52 - cmdstanpy - INFO - Chain [1] start processing\n",
      "21:29:52 - cmdstanpy - INFO - Chain [1] done processing\n",
      "21:29:52 - cmdstanpy - INFO - Chain [1] start processing\n"
     ]
    },
    {
     "name": "stdout",
     "output_type": "stream",
     "text": [
      "\n",
      "정류장 처리 중... (16/79)\n"
     ]
    },
    {
     "name": "stderr",
     "output_type": "stream",
     "text": [
      "21:29:52 - cmdstanpy - INFO - Chain [1] done processing\n",
      "21:29:52 - cmdstanpy - INFO - Chain [1] start processing\n",
      "21:29:52 - cmdstanpy - INFO - Chain [1] done processing\n",
      "21:29:53 - cmdstanpy - INFO - Chain [1] start processing\n",
      "21:29:53 - cmdstanpy - INFO - Chain [1] done processing\n",
      "21:29:53 - cmdstanpy - INFO - Chain [1] start processing\n"
     ]
    },
    {
     "name": "stdout",
     "output_type": "stream",
     "text": [
      "\n",
      "정류장 처리 중... (17/79)\n"
     ]
    },
    {
     "name": "stderr",
     "output_type": "stream",
     "text": [
      "21:29:53 - cmdstanpy - INFO - Chain [1] done processing\n",
      "21:29:53 - cmdstanpy - INFO - Chain [1] start processing\n",
      "21:29:53 - cmdstanpy - INFO - Chain [1] done processing\n",
      "21:29:53 - cmdstanpy - INFO - Chain [1] start processing\n",
      "21:29:54 - cmdstanpy - INFO - Chain [1] done processing\n",
      "21:29:54 - cmdstanpy - INFO - Chain [1] start processing\n"
     ]
    },
    {
     "name": "stdout",
     "output_type": "stream",
     "text": [
      "\n",
      "정류장 처리 중... (18/79)\n"
     ]
    },
    {
     "name": "stderr",
     "output_type": "stream",
     "text": [
      "21:29:54 - cmdstanpy - INFO - Chain [1] done processing\n",
      "21:29:54 - cmdstanpy - INFO - Chain [1] start processing\n",
      "21:29:54 - cmdstanpy - INFO - Chain [1] done processing\n",
      "21:29:54 - cmdstanpy - INFO - Chain [1] start processing\n",
      "21:29:54 - cmdstanpy - INFO - Chain [1] done processing\n",
      "21:29:55 - cmdstanpy - INFO - Chain [1] start processing\n",
      "21:29:55 - cmdstanpy - INFO - Chain [1] done processing\n"
     ]
    },
    {
     "name": "stdout",
     "output_type": "stream",
     "text": [
      "\n",
      "정류장 처리 중... (19/79)\n"
     ]
    },
    {
     "name": "stderr",
     "output_type": "stream",
     "text": [
      "21:29:55 - cmdstanpy - INFO - Chain [1] start processing\n",
      "21:29:56 - cmdstanpy - INFO - Chain [1] done processing\n",
      "21:29:56 - cmdstanpy - INFO - Chain [1] start processing\n",
      "21:29:56 - cmdstanpy - INFO - Chain [1] done processing\n",
      "21:29:56 - cmdstanpy - INFO - Chain [1] start processing\n"
     ]
    },
    {
     "name": "stdout",
     "output_type": "stream",
     "text": [
      "\n",
      "정류장 처리 중... (20/79)\n"
     ]
    },
    {
     "name": "stderr",
     "output_type": "stream",
     "text": [
      "21:29:56 - cmdstanpy - INFO - Chain [1] done processing\n",
      "21:29:56 - cmdstanpy - INFO - Chain [1] start processing\n",
      "21:29:56 - cmdstanpy - INFO - Chain [1] done processing\n",
      "21:29:57 - cmdstanpy - INFO - Chain [1] start processing\n",
      "21:29:57 - cmdstanpy - INFO - Chain [1] done processing\n",
      "21:29:57 - cmdstanpy - INFO - Chain [1] start processing\n"
     ]
    },
    {
     "name": "stdout",
     "output_type": "stream",
     "text": [
      "\n",
      "정류장 처리 중... (21/79)\n"
     ]
    },
    {
     "name": "stderr",
     "output_type": "stream",
     "text": [
      "21:29:57 - cmdstanpy - INFO - Chain [1] done processing\n",
      "21:29:57 - cmdstanpy - INFO - Chain [1] start processing\n",
      "21:29:57 - cmdstanpy - INFO - Chain [1] done processing\n",
      "21:29:57 - cmdstanpy - INFO - Chain [1] start processing\n",
      "21:29:58 - cmdstanpy - INFO - Chain [1] done processing\n",
      "21:29:58 - cmdstanpy - INFO - Chain [1] start processing\n",
      "21:29:58 - cmdstanpy - INFO - Chain [1] done processing\n"
     ]
    },
    {
     "name": "stdout",
     "output_type": "stream",
     "text": [
      "\n",
      "정류장 처리 중... (22/79)\n"
     ]
    },
    {
     "name": "stderr",
     "output_type": "stream",
     "text": [
      "21:29:58 - cmdstanpy - INFO - Chain [1] start processing\n",
      "21:29:58 - cmdstanpy - INFO - Chain [1] done processing\n",
      "21:29:58 - cmdstanpy - INFO - Chain [1] start processing\n",
      "21:29:58 - cmdstanpy - INFO - Chain [1] done processing\n",
      "21:29:59 - cmdstanpy - INFO - Chain [1] start processing\n"
     ]
    },
    {
     "name": "stdout",
     "output_type": "stream",
     "text": [
      "\n",
      "정류장 처리 중... (23/79)\n"
     ]
    },
    {
     "name": "stderr",
     "output_type": "stream",
     "text": [
      "21:29:59 - cmdstanpy - INFO - Chain [1] done processing\n",
      "21:29:59 - cmdstanpy - INFO - Chain [1] start processing\n",
      "21:29:59 - cmdstanpy - INFO - Chain [1] done processing\n",
      "21:29:59 - cmdstanpy - INFO - Chain [1] start processing\n",
      "21:29:59 - cmdstanpy - INFO - Chain [1] done processing\n",
      "21:29:59 - cmdstanpy - INFO - Chain [1] start processing\n"
     ]
    },
    {
     "name": "stdout",
     "output_type": "stream",
     "text": [
      "\n",
      "정류장 처리 중... (24/79)\n"
     ]
    },
    {
     "name": "stderr",
     "output_type": "stream",
     "text": [
      "21:30:00 - cmdstanpy - INFO - Chain [1] done processing\n",
      "21:30:00 - cmdstanpy - INFO - Chain [1] start processing\n",
      "21:30:00 - cmdstanpy - INFO - Chain [1] done processing\n",
      "21:30:00 - cmdstanpy - INFO - Chain [1] start processing\n",
      "21:30:00 - cmdstanpy - INFO - Chain [1] done processing\n",
      "21:30:00 - cmdstanpy - INFO - Chain [1] start processing\n",
      "21:30:00 - cmdstanpy - INFO - Chain [1] done processing\n"
     ]
    },
    {
     "name": "stdout",
     "output_type": "stream",
     "text": [
      "\n",
      "정류장 처리 중... (25/79)\n"
     ]
    },
    {
     "name": "stderr",
     "output_type": "stream",
     "text": [
      "21:30:01 - cmdstanpy - INFO - Chain [1] start processing\n",
      "21:30:01 - cmdstanpy - INFO - Chain [1] done processing\n",
      "21:30:01 - cmdstanpy - INFO - Chain [1] start processing\n",
      "21:30:01 - cmdstanpy - INFO - Chain [1] done processing\n",
      "21:30:01 - cmdstanpy - INFO - Chain [1] start processing\n"
     ]
    },
    {
     "name": "stdout",
     "output_type": "stream",
     "text": [
      "\n",
      "정류장 처리 중... (26/79)\n"
     ]
    },
    {
     "name": "stderr",
     "output_type": "stream",
     "text": [
      "21:30:01 - cmdstanpy - INFO - Chain [1] done processing\n",
      "21:30:02 - cmdstanpy - INFO - Chain [1] start processing\n",
      "21:30:02 - cmdstanpy - INFO - Chain [1] done processing\n",
      "21:30:02 - cmdstanpy - INFO - Chain [1] start processing\n",
      "21:30:02 - cmdstanpy - INFO - Chain [1] done processing\n",
      "21:30:02 - cmdstanpy - INFO - Chain [1] start processing\n"
     ]
    },
    {
     "name": "stdout",
     "output_type": "stream",
     "text": [
      "\n",
      "정류장 처리 중... (27/79)\n"
     ]
    },
    {
     "name": "stderr",
     "output_type": "stream",
     "text": [
      "21:30:02 - cmdstanpy - INFO - Chain [1] done processing\n",
      "21:30:03 - cmdstanpy - INFO - Chain [1] start processing\n",
      "21:30:03 - cmdstanpy - INFO - Chain [1] done processing\n",
      "21:30:03 - cmdstanpy - INFO - Chain [1] start processing\n",
      "21:30:03 - cmdstanpy - INFO - Chain [1] done processing\n",
      "21:30:03 - cmdstanpy - INFO - Chain [1] start processing\n"
     ]
    },
    {
     "name": "stdout",
     "output_type": "stream",
     "text": [
      "\n",
      "정류장 처리 중... (28/79)\n"
     ]
    },
    {
     "name": "stderr",
     "output_type": "stream",
     "text": [
      "21:30:03 - cmdstanpy - INFO - Chain [1] done processing\n",
      "21:30:04 - cmdstanpy - INFO - Chain [1] start processing\n",
      "21:30:04 - cmdstanpy - INFO - Chain [1] done processing\n",
      "21:30:04 - cmdstanpy - INFO - Chain [1] start processing\n",
      "21:30:04 - cmdstanpy - INFO - Chain [1] done processing\n",
      "21:30:04 - cmdstanpy - INFO - Chain [1] start processing\n"
     ]
    },
    {
     "name": "stdout",
     "output_type": "stream",
     "text": [
      "\n",
      "정류장 처리 중... (29/79)\n"
     ]
    },
    {
     "name": "stderr",
     "output_type": "stream",
     "text": [
      "21:30:04 - cmdstanpy - INFO - Chain [1] done processing\n",
      "21:30:05 - cmdstanpy - INFO - Chain [1] start processing\n",
      "21:30:05 - cmdstanpy - INFO - Chain [1] done processing\n",
      "21:30:05 - cmdstanpy - INFO - Chain [1] start processing\n",
      "21:30:05 - cmdstanpy - INFO - Chain [1] done processing\n",
      "21:30:05 - cmdstanpy - INFO - Chain [1] start processing\n",
      "21:30:05 - cmdstanpy - INFO - Chain [1] done processing\n"
     ]
    },
    {
     "name": "stdout",
     "output_type": "stream",
     "text": [
      "\n",
      "정류장 처리 중... (30/79)\n"
     ]
    },
    {
     "name": "stderr",
     "output_type": "stream",
     "text": [
      "21:30:06 - cmdstanpy - INFO - Chain [1] start processing\n",
      "21:30:06 - cmdstanpy - INFO - Chain [1] done processing\n",
      "21:30:06 - cmdstanpy - INFO - Chain [1] start processing\n",
      "21:30:06 - cmdstanpy - INFO - Chain [1] done processing\n",
      "21:30:06 - cmdstanpy - INFO - Chain [1] start processing\n"
     ]
    },
    {
     "name": "stdout",
     "output_type": "stream",
     "text": [
      "\n",
      "정류장 처리 중... (31/79)\n"
     ]
    },
    {
     "name": "stderr",
     "output_type": "stream",
     "text": [
      "21:30:06 - cmdstanpy - INFO - Chain [1] done processing\n",
      "21:30:07 - cmdstanpy - INFO - Chain [1] start processing\n",
      "21:30:07 - cmdstanpy - INFO - Chain [1] done processing\n",
      "21:30:07 - cmdstanpy - INFO - Chain [1] start processing\n",
      "21:30:07 - cmdstanpy - INFO - Chain [1] done processing\n",
      "21:30:07 - cmdstanpy - INFO - Chain [1] start processing\n",
      "21:30:07 - cmdstanpy - INFO - Chain [1] done processing\n"
     ]
    },
    {
     "name": "stdout",
     "output_type": "stream",
     "text": [
      "\n",
      "정류장 처리 중... (32/79)\n"
     ]
    },
    {
     "name": "stderr",
     "output_type": "stream",
     "text": [
      "21:30:07 - cmdstanpy - INFO - Chain [1] start processing\n",
      "21:30:07 - cmdstanpy - INFO - Chain [1] done processing\n",
      "21:30:08 - cmdstanpy - INFO - Chain [1] start processing\n",
      "21:30:08 - cmdstanpy - INFO - Chain [1] done processing\n",
      "21:30:08 - cmdstanpy - INFO - Chain [1] start processing\n",
      "21:30:08 - cmdstanpy - INFO - Chain [1] done processing\n"
     ]
    },
    {
     "name": "stdout",
     "output_type": "stream",
     "text": [
      "\n",
      "정류장 처리 중... (33/79)\n"
     ]
    },
    {
     "name": "stderr",
     "output_type": "stream",
     "text": [
      "21:30:08 - cmdstanpy - INFO - Chain [1] start processing\n",
      "21:30:08 - cmdstanpy - INFO - Chain [1] done processing\n",
      "21:30:08 - cmdstanpy - INFO - Chain [1] start processing\n",
      "21:30:08 - cmdstanpy - INFO - Chain [1] done processing\n",
      "21:30:09 - cmdstanpy - INFO - Chain [1] start processing\n",
      "21:30:09 - cmdstanpy - INFO - Chain [1] done processing\n"
     ]
    },
    {
     "name": "stdout",
     "output_type": "stream",
     "text": [
      "\n",
      "정류장 처리 중... (34/79)\n"
     ]
    },
    {
     "name": "stderr",
     "output_type": "stream",
     "text": [
      "21:30:09 - cmdstanpy - INFO - Chain [1] start processing\n",
      "21:30:09 - cmdstanpy - INFO - Chain [1] done processing\n",
      "21:30:09 - cmdstanpy - INFO - Chain [1] start processing\n",
      "21:30:09 - cmdstanpy - INFO - Chain [1] done processing\n"
     ]
    },
    {
     "name": "stdout",
     "output_type": "stream",
     "text": [
      "\n",
      "정류장 처리 중... (35/79)\n"
     ]
    },
    {
     "name": "stderr",
     "output_type": "stream",
     "text": [
      "21:30:10 - cmdstanpy - INFO - Chain [1] start processing\n",
      "21:30:10 - cmdstanpy - INFO - Chain [1] done processing\n",
      "21:30:10 - cmdstanpy - INFO - Chain [1] start processing\n",
      "21:30:10 - cmdstanpy - INFO - Chain [1] done processing\n",
      "21:30:10 - cmdstanpy - INFO - Chain [1] start processing\n",
      "21:30:10 - cmdstanpy - INFO - Chain [1] done processing\n",
      "21:30:11 - cmdstanpy - INFO - Chain [1] start processing\n",
      "21:30:11 - cmdstanpy - INFO - Chain [1] done processing\n"
     ]
    },
    {
     "name": "stdout",
     "output_type": "stream",
     "text": [
      "\n",
      "정류장 처리 중... (36/79)\n"
     ]
    },
    {
     "name": "stderr",
     "output_type": "stream",
     "text": [
      "21:30:11 - cmdstanpy - INFO - Chain [1] start processing\n",
      "21:30:11 - cmdstanpy - INFO - Chain [1] done processing\n",
      "21:30:11 - cmdstanpy - INFO - Chain [1] start processing\n",
      "21:30:11 - cmdstanpy - INFO - Chain [1] done processing\n",
      "21:30:12 - cmdstanpy - INFO - Chain [1] start processing\n"
     ]
    },
    {
     "name": "stdout",
     "output_type": "stream",
     "text": [
      "\n",
      "정류장 처리 중... (37/79)\n"
     ]
    },
    {
     "name": "stderr",
     "output_type": "stream",
     "text": [
      "21:30:12 - cmdstanpy - INFO - Chain [1] done processing\n",
      "21:30:12 - cmdstanpy - INFO - Chain [1] start processing\n",
      "21:30:12 - cmdstanpy - INFO - Chain [1] done processing\n",
      "21:30:12 - cmdstanpy - INFO - Chain [1] start processing\n",
      "21:30:12 - cmdstanpy - INFO - Chain [1] done processing\n",
      "21:30:12 - cmdstanpy - INFO - Chain [1] start processing\n"
     ]
    },
    {
     "name": "stdout",
     "output_type": "stream",
     "text": [
      "\n",
      "정류장 처리 중... (38/79)\n"
     ]
    },
    {
     "name": "stderr",
     "output_type": "stream",
     "text": [
      "21:30:13 - cmdstanpy - INFO - Chain [1] done processing\n",
      "21:30:13 - cmdstanpy - INFO - Chain [1] start processing\n",
      "21:30:13 - cmdstanpy - INFO - Chain [1] done processing\n",
      "21:30:13 - cmdstanpy - INFO - Chain [1] start processing\n",
      "21:30:13 - cmdstanpy - INFO - Chain [1] done processing\n",
      "21:30:13 - cmdstanpy - INFO - Chain [1] start processing\n"
     ]
    },
    {
     "name": "stdout",
     "output_type": "stream",
     "text": [
      "\n",
      "정류장 처리 중... (39/79)\n"
     ]
    },
    {
     "name": "stderr",
     "output_type": "stream",
     "text": [
      "21:30:14 - cmdstanpy - INFO - Chain [1] done processing\n",
      "21:30:14 - cmdstanpy - INFO - Chain [1] start processing\n",
      "21:30:14 - cmdstanpy - INFO - Chain [1] done processing\n",
      "21:30:14 - cmdstanpy - INFO - Chain [1] start processing\n",
      "21:30:14 - cmdstanpy - INFO - Chain [1] done processing\n",
      "21:30:14 - cmdstanpy - INFO - Chain [1] start processing\n",
      "21:30:14 - cmdstanpy - INFO - Chain [1] done processing\n"
     ]
    },
    {
     "name": "stdout",
     "output_type": "stream",
     "text": [
      "\n",
      "정류장 처리 중... (40/79)\n"
     ]
    },
    {
     "name": "stderr",
     "output_type": "stream",
     "text": [
      "21:30:15 - cmdstanpy - INFO - Chain [1] start processing\n",
      "21:30:15 - cmdstanpy - INFO - Chain [1] done processing\n",
      "21:30:15 - cmdstanpy - INFO - Chain [1] start processing\n",
      "21:30:15 - cmdstanpy - INFO - Chain [1] done processing\n",
      "21:30:15 - cmdstanpy - INFO - Chain [1] start processing\n",
      "21:30:15 - cmdstanpy - INFO - Chain [1] done processing\n"
     ]
    },
    {
     "name": "stdout",
     "output_type": "stream",
     "text": [
      "\n",
      "정류장 처리 중... (41/79)\n"
     ]
    },
    {
     "name": "stderr",
     "output_type": "stream",
     "text": [
      "21:30:16 - cmdstanpy - INFO - Chain [1] start processing\n",
      "21:30:16 - cmdstanpy - INFO - Chain [1] done processing\n",
      "21:30:16 - cmdstanpy - INFO - Chain [1] start processing\n",
      "21:30:16 - cmdstanpy - INFO - Chain [1] done processing\n",
      "21:30:16 - cmdstanpy - INFO - Chain [1] start processing\n"
     ]
    },
    {
     "name": "stdout",
     "output_type": "stream",
     "text": [
      "\n",
      "정류장 처리 중... (42/79)\n"
     ]
    },
    {
     "name": "stderr",
     "output_type": "stream",
     "text": [
      "21:30:16 - cmdstanpy - INFO - Chain [1] done processing\n",
      "21:30:17 - cmdstanpy - INFO - Chain [1] start processing\n",
      "21:30:17 - cmdstanpy - INFO - Chain [1] done processing\n",
      "21:30:17 - cmdstanpy - INFO - Chain [1] start processing\n",
      "21:30:17 - cmdstanpy - INFO - Chain [1] done processing\n",
      "21:30:17 - cmdstanpy - INFO - Chain [1] start processing\n"
     ]
    },
    {
     "name": "stdout",
     "output_type": "stream",
     "text": [
      "\n",
      "정류장 처리 중... (43/79)\n"
     ]
    },
    {
     "name": "stderr",
     "output_type": "stream",
     "text": [
      "21:30:17 - cmdstanpy - INFO - Chain [1] done processing\n",
      "21:30:17 - cmdstanpy - INFO - Chain [1] start processing\n",
      "21:30:18 - cmdstanpy - INFO - Chain [1] done processing\n",
      "21:30:18 - cmdstanpy - INFO - Chain [1] start processing\n",
      "21:30:18 - cmdstanpy - INFO - Chain [1] done processing\n",
      "21:30:18 - cmdstanpy - INFO - Chain [1] start processing\n"
     ]
    },
    {
     "name": "stdout",
     "output_type": "stream",
     "text": [
      "\n",
      "정류장 처리 중... (44/79)\n"
     ]
    },
    {
     "name": "stderr",
     "output_type": "stream",
     "text": [
      "21:30:18 - cmdstanpy - INFO - Chain [1] done processing\n",
      "21:30:19 - cmdstanpy - INFO - Chain [1] start processing\n",
      "21:30:19 - cmdstanpy - INFO - Chain [1] done processing\n",
      "21:30:19 - cmdstanpy - INFO - Chain [1] start processing\n",
      "21:30:19 - cmdstanpy - INFO - Chain [1] done processing\n",
      "21:30:19 - cmdstanpy - INFO - Chain [1] start processing\n"
     ]
    },
    {
     "name": "stdout",
     "output_type": "stream",
     "text": [
      "\n",
      "정류장 처리 중... (45/79)\n"
     ]
    },
    {
     "name": "stderr",
     "output_type": "stream",
     "text": [
      "21:30:19 - cmdstanpy - INFO - Chain [1] done processing\n",
      "21:30:20 - cmdstanpy - INFO - Chain [1] start processing\n",
      "21:30:20 - cmdstanpy - INFO - Chain [1] done processing\n",
      "21:30:20 - cmdstanpy - INFO - Chain [1] start processing\n",
      "21:30:20 - cmdstanpy - INFO - Chain [1] done processing\n",
      "21:30:20 - cmdstanpy - INFO - Chain [1] start processing\n"
     ]
    },
    {
     "name": "stdout",
     "output_type": "stream",
     "text": [
      "\n",
      "정류장 처리 중... (46/79)\n"
     ]
    },
    {
     "name": "stderr",
     "output_type": "stream",
     "text": [
      "21:30:20 - cmdstanpy - INFO - Chain [1] done processing\n",
      "21:30:20 - cmdstanpy - INFO - Chain [1] start processing\n",
      "21:30:21 - cmdstanpy - INFO - Chain [1] done processing\n",
      "21:30:21 - cmdstanpy - INFO - Chain [1] start processing\n",
      "21:30:21 - cmdstanpy - INFO - Chain [1] done processing\n",
      "21:30:21 - cmdstanpy - INFO - Chain [1] start processing\n"
     ]
    },
    {
     "name": "stdout",
     "output_type": "stream",
     "text": [
      "\n",
      "정류장 처리 중... (47/79)\n"
     ]
    },
    {
     "name": "stderr",
     "output_type": "stream",
     "text": [
      "21:30:21 - cmdstanpy - INFO - Chain [1] done processing\n",
      "21:30:21 - cmdstanpy - INFO - Chain [1] start processing\n",
      "21:30:21 - cmdstanpy - INFO - Chain [1] done processing\n",
      "21:30:22 - cmdstanpy - INFO - Chain [1] start processing\n",
      "21:30:22 - cmdstanpy - INFO - Chain [1] done processing\n",
      "21:30:22 - cmdstanpy - INFO - Chain [1] start processing\n"
     ]
    },
    {
     "name": "stdout",
     "output_type": "stream",
     "text": [
      "\n",
      "정류장 처리 중... (48/79)\n"
     ]
    },
    {
     "name": "stderr",
     "output_type": "stream",
     "text": [
      "21:30:22 - cmdstanpy - INFO - Chain [1] done processing\n",
      "21:30:22 - cmdstanpy - INFO - Chain [1] start processing\n",
      "21:30:22 - cmdstanpy - INFO - Chain [1] done processing\n",
      "21:30:23 - cmdstanpy - INFO - Chain [1] start processing\n",
      "21:30:23 - cmdstanpy - INFO - Chain [1] done processing\n",
      "21:30:23 - cmdstanpy - INFO - Chain [1] start processing\n"
     ]
    },
    {
     "name": "stdout",
     "output_type": "stream",
     "text": [
      "\n",
      "정류장 처리 중... (49/79)\n"
     ]
    },
    {
     "name": "stderr",
     "output_type": "stream",
     "text": [
      "21:30:23 - cmdstanpy - INFO - Chain [1] done processing\n",
      "21:30:23 - cmdstanpy - INFO - Chain [1] start processing\n",
      "21:30:23 - cmdstanpy - INFO - Chain [1] done processing\n",
      "21:30:24 - cmdstanpy - INFO - Chain [1] start processing\n",
      "21:30:24 - cmdstanpy - INFO - Chain [1] done processing\n",
      "21:30:24 - cmdstanpy - INFO - Chain [1] start processing\n"
     ]
    },
    {
     "name": "stdout",
     "output_type": "stream",
     "text": [
      "\n",
      "정류장 처리 중... (50/79)\n"
     ]
    },
    {
     "name": "stderr",
     "output_type": "stream",
     "text": [
      "21:30:24 - cmdstanpy - INFO - Chain [1] done processing\n",
      "21:30:24 - cmdstanpy - INFO - Chain [1] start processing\n",
      "21:30:24 - cmdstanpy - INFO - Chain [1] done processing\n",
      "21:30:25 - cmdstanpy - INFO - Chain [1] start processing\n",
      "21:30:25 - cmdstanpy - INFO - Chain [1] done processing\n",
      "21:30:25 - cmdstanpy - INFO - Chain [1] start processing\n"
     ]
    },
    {
     "name": "stdout",
     "output_type": "stream",
     "text": [
      "\n",
      "정류장 처리 중... (51/79)\n"
     ]
    },
    {
     "name": "stderr",
     "output_type": "stream",
     "text": [
      "21:30:25 - cmdstanpy - INFO - Chain [1] done processing\n",
      "21:30:25 - cmdstanpy - INFO - Chain [1] start processing\n",
      "21:30:25 - cmdstanpy - INFO - Chain [1] done processing\n",
      "21:30:25 - cmdstanpy - INFO - Chain [1] start processing\n",
      "21:30:25 - cmdstanpy - INFO - Chain [1] done processing\n",
      "21:30:26 - cmdstanpy - INFO - Chain [1] start processing\n"
     ]
    },
    {
     "name": "stdout",
     "output_type": "stream",
     "text": [
      "\n",
      "정류장 처리 중... (52/79)\n"
     ]
    },
    {
     "name": "stderr",
     "output_type": "stream",
     "text": [
      "21:30:26 - cmdstanpy - INFO - Chain [1] done processing\n",
      "21:30:26 - cmdstanpy - INFO - Chain [1] start processing\n",
      "21:30:26 - cmdstanpy - INFO - Chain [1] done processing\n",
      "21:30:26 - cmdstanpy - INFO - Chain [1] start processing\n",
      "21:30:26 - cmdstanpy - INFO - Chain [1] done processing\n",
      "21:30:27 - cmdstanpy - INFO - Chain [1] start processing\n"
     ]
    },
    {
     "name": "stdout",
     "output_type": "stream",
     "text": [
      "\n",
      "정류장 처리 중... (53/79)\n"
     ]
    },
    {
     "name": "stderr",
     "output_type": "stream",
     "text": [
      "21:30:27 - cmdstanpy - INFO - Chain [1] done processing\n",
      "21:30:27 - cmdstanpy - INFO - Chain [1] start processing\n",
      "21:30:27 - cmdstanpy - INFO - Chain [1] done processing\n",
      "21:30:27 - cmdstanpy - INFO - Chain [1] start processing\n",
      "21:30:27 - cmdstanpy - INFO - Chain [1] done processing\n",
      "21:30:27 - cmdstanpy - INFO - Chain [1] start processing\n"
     ]
    },
    {
     "name": "stdout",
     "output_type": "stream",
     "text": [
      "\n",
      "정류장 처리 중... (54/79)\n"
     ]
    },
    {
     "name": "stderr",
     "output_type": "stream",
     "text": [
      "21:30:28 - cmdstanpy - INFO - Chain [1] done processing\n",
      "21:30:28 - cmdstanpy - INFO - Chain [1] start processing\n",
      "21:30:28 - cmdstanpy - INFO - Chain [1] done processing\n",
      "21:30:28 - cmdstanpy - INFO - Chain [1] start processing\n",
      "21:30:28 - cmdstanpy - INFO - Chain [1] done processing\n",
      "21:30:28 - cmdstanpy - INFO - Chain [1] start processing\n"
     ]
    },
    {
     "name": "stdout",
     "output_type": "stream",
     "text": [
      "\n",
      "정류장 처리 중... (55/79)\n"
     ]
    },
    {
     "name": "stderr",
     "output_type": "stream",
     "text": [
      "21:30:29 - cmdstanpy - INFO - Chain [1] done processing\n",
      "21:30:29 - cmdstanpy - INFO - Chain [1] start processing\n",
      "21:30:29 - cmdstanpy - INFO - Chain [1] done processing\n",
      "21:30:29 - cmdstanpy - INFO - Chain [1] start processing\n",
      "21:30:29 - cmdstanpy - INFO - Chain [1] done processing\n",
      "21:30:29 - cmdstanpy - INFO - Chain [1] start processing\n"
     ]
    },
    {
     "name": "stdout",
     "output_type": "stream",
     "text": [
      "\n",
      "정류장 처리 중... (56/79)\n"
     ]
    },
    {
     "name": "stderr",
     "output_type": "stream",
     "text": [
      "21:30:29 - cmdstanpy - INFO - Chain [1] done processing\n",
      "21:30:30 - cmdstanpy - INFO - Chain [1] start processing\n",
      "21:30:30 - cmdstanpy - INFO - Chain [1] done processing\n",
      "21:30:30 - cmdstanpy - INFO - Chain [1] start processing\n",
      "21:30:30 - cmdstanpy - INFO - Chain [1] done processing\n",
      "21:30:31 - cmdstanpy - INFO - Chain [1] start processing\n"
     ]
    },
    {
     "name": "stdout",
     "output_type": "stream",
     "text": [
      "\n",
      "정류장 처리 중... (57/79)\n"
     ]
    },
    {
     "name": "stderr",
     "output_type": "stream",
     "text": [
      "21:30:32 - cmdstanpy - INFO - Chain [1] done processing\n",
      "21:30:32 - cmdstanpy - INFO - Chain [1] start processing\n",
      "21:30:32 - cmdstanpy - INFO - Chain [1] done processing\n",
      "21:30:33 - cmdstanpy - INFO - Chain [1] start processing\n",
      "21:30:33 - cmdstanpy - INFO - Chain [1] done processing\n",
      "21:30:33 - cmdstanpy - INFO - Chain [1] start processing\n"
     ]
    },
    {
     "name": "stdout",
     "output_type": "stream",
     "text": [
      "\n",
      "정류장 처리 중... (58/79)\n"
     ]
    },
    {
     "name": "stderr",
     "output_type": "stream",
     "text": [
      "21:30:33 - cmdstanpy - INFO - Chain [1] done processing\n",
      "21:30:33 - cmdstanpy - INFO - Chain [1] start processing\n",
      "21:30:33 - cmdstanpy - INFO - Chain [1] done processing\n",
      "21:30:34 - cmdstanpy - INFO - Chain [1] start processing\n",
      "21:30:34 - cmdstanpy - INFO - Chain [1] done processing\n",
      "21:30:34 - cmdstanpy - INFO - Chain [1] start processing\n"
     ]
    },
    {
     "name": "stdout",
     "output_type": "stream",
     "text": [
      "\n",
      "정류장 처리 중... (59/79)\n"
     ]
    },
    {
     "name": "stderr",
     "output_type": "stream",
     "text": [
      "21:30:34 - cmdstanpy - INFO - Chain [1] done processing\n",
      "21:30:34 - cmdstanpy - INFO - Chain [1] start processing\n",
      "21:30:34 - cmdstanpy - INFO - Chain [1] done processing\n",
      "21:30:35 - cmdstanpy - INFO - Chain [1] start processing\n",
      "21:30:35 - cmdstanpy - INFO - Chain [1] done processing\n",
      "21:30:35 - cmdstanpy - INFO - Chain [1] start processing\n"
     ]
    },
    {
     "name": "stdout",
     "output_type": "stream",
     "text": [
      "\n",
      "정류장 처리 중... (60/79)\n"
     ]
    },
    {
     "name": "stderr",
     "output_type": "stream",
     "text": [
      "21:30:35 - cmdstanpy - INFO - Chain [1] done processing\n",
      "21:30:36 - cmdstanpy - INFO - Chain [1] start processing\n",
      "21:30:36 - cmdstanpy - INFO - Chain [1] done processing\n",
      "21:30:36 - cmdstanpy - INFO - Chain [1] start processing\n",
      "21:30:36 - cmdstanpy - INFO - Chain [1] done processing\n",
      "21:30:36 - cmdstanpy - INFO - Chain [1] start processing\n"
     ]
    },
    {
     "name": "stdout",
     "output_type": "stream",
     "text": [
      "\n",
      "정류장 처리 중... (61/79)\n"
     ]
    },
    {
     "name": "stderr",
     "output_type": "stream",
     "text": [
      "21:30:37 - cmdstanpy - INFO - Chain [1] done processing\n",
      "21:30:37 - cmdstanpy - INFO - Chain [1] start processing\n",
      "21:30:37 - cmdstanpy - INFO - Chain [1] done processing\n",
      "21:30:38 - cmdstanpy - INFO - Chain [1] start processing\n",
      "21:30:38 - cmdstanpy - INFO - Chain [1] done processing\n",
      "21:30:38 - cmdstanpy - INFO - Chain [1] start processing\n"
     ]
    },
    {
     "name": "stdout",
     "output_type": "stream",
     "text": [
      "\n",
      "정류장 처리 중... (62/79)\n"
     ]
    },
    {
     "name": "stderr",
     "output_type": "stream",
     "text": [
      "21:30:38 - cmdstanpy - INFO - Chain [1] done processing\n",
      "21:30:39 - cmdstanpy - INFO - Chain [1] start processing\n",
      "21:30:39 - cmdstanpy - INFO - Chain [1] done processing\n",
      "21:30:39 - cmdstanpy - INFO - Chain [1] start processing\n",
      "21:30:40 - cmdstanpy - INFO - Chain [1] done processing\n",
      "21:30:40 - cmdstanpy - INFO - Chain [1] start processing\n"
     ]
    },
    {
     "name": "stdout",
     "output_type": "stream",
     "text": [
      "\n",
      "정류장 처리 중... (63/79)\n"
     ]
    },
    {
     "name": "stderr",
     "output_type": "stream",
     "text": [
      "21:30:40 - cmdstanpy - INFO - Chain [1] done processing\n",
      "21:30:41 - cmdstanpy - INFO - Chain [1] start processing\n",
      "21:30:41 - cmdstanpy - INFO - Chain [1] done processing\n",
      "21:30:42 - cmdstanpy - INFO - Chain [1] start processing\n",
      "21:30:42 - cmdstanpy - INFO - Chain [1] done processing\n"
     ]
    },
    {
     "name": "stdout",
     "output_type": "stream",
     "text": [
      "\n",
      "정류장 처리 중... (64/79)\n"
     ]
    },
    {
     "name": "stderr",
     "output_type": "stream",
     "text": [
      "21:30:42 - cmdstanpy - INFO - Chain [1] start processing\n",
      "21:30:42 - cmdstanpy - INFO - Chain [1] done processing\n",
      "21:30:43 - cmdstanpy - INFO - Chain [1] start processing\n",
      "21:30:43 - cmdstanpy - INFO - Chain [1] done processing\n",
      "21:30:43 - cmdstanpy - INFO - Chain [1] start processing\n",
      "21:30:43 - cmdstanpy - INFO - Chain [1] done processing\n",
      "21:30:44 - cmdstanpy - INFO - Chain [1] start processing\n"
     ]
    },
    {
     "name": "stdout",
     "output_type": "stream",
     "text": [
      "\n",
      "정류장 처리 중... (65/79)\n"
     ]
    },
    {
     "name": "stderr",
     "output_type": "stream",
     "text": [
      "21:30:44 - cmdstanpy - INFO - Chain [1] done processing\n",
      "21:30:45 - cmdstanpy - INFO - Chain [1] start processing\n",
      "21:30:45 - cmdstanpy - INFO - Chain [1] done processing\n",
      "21:30:45 - cmdstanpy - INFO - Chain [1] start processing\n",
      "21:30:45 - cmdstanpy - INFO - Chain [1] done processing\n",
      "21:30:46 - cmdstanpy - INFO - Chain [1] start processing\n"
     ]
    },
    {
     "name": "stdout",
     "output_type": "stream",
     "text": [
      "\n",
      "정류장 처리 중... (66/79)\n"
     ]
    },
    {
     "name": "stderr",
     "output_type": "stream",
     "text": [
      "21:30:46 - cmdstanpy - INFO - Chain [1] done processing\n",
      "21:30:46 - cmdstanpy - INFO - Chain [1] start processing\n",
      "21:30:47 - cmdstanpy - INFO - Chain [1] done processing\n",
      "21:30:47 - cmdstanpy - INFO - Chain [1] start processing\n",
      "21:30:47 - cmdstanpy - INFO - Chain [1] done processing\n",
      "21:30:47 - cmdstanpy - INFO - Chain [1] start processing\n"
     ]
    },
    {
     "name": "stdout",
     "output_type": "stream",
     "text": [
      "\n",
      "정류장 처리 중... (67/79)\n"
     ]
    },
    {
     "name": "stderr",
     "output_type": "stream",
     "text": [
      "21:30:47 - cmdstanpy - INFO - Chain [1] done processing\n",
      "21:30:48 - cmdstanpy - INFO - Chain [1] start processing\n",
      "21:30:48 - cmdstanpy - INFO - Chain [1] done processing\n",
      "21:30:49 - cmdstanpy - INFO - Chain [1] start processing\n",
      "21:30:49 - cmdstanpy - INFO - Chain [1] done processing\n",
      "21:30:49 - cmdstanpy - INFO - Chain [1] start processing\n"
     ]
    },
    {
     "name": "stdout",
     "output_type": "stream",
     "text": [
      "\n",
      "정류장 처리 중... (68/79)\n"
     ]
    },
    {
     "name": "stderr",
     "output_type": "stream",
     "text": [
      "21:30:49 - cmdstanpy - INFO - Chain [1] done processing\n",
      "21:30:50 - cmdstanpy - INFO - Chain [1] start processing\n",
      "21:30:50 - cmdstanpy - INFO - Chain [1] done processing\n",
      "21:30:51 - cmdstanpy - INFO - Chain [1] start processing\n",
      "21:30:51 - cmdstanpy - INFO - Chain [1] done processing\n",
      "21:30:51 - cmdstanpy - INFO - Chain [1] start processing\n"
     ]
    },
    {
     "name": "stdout",
     "output_type": "stream",
     "text": [
      "\n",
      "정류장 처리 중... (69/79)\n"
     ]
    },
    {
     "name": "stderr",
     "output_type": "stream",
     "text": [
      "21:30:51 - cmdstanpy - INFO - Chain [1] done processing\n",
      "21:30:51 - cmdstanpy - INFO - Chain [1] start processing\n",
      "21:30:51 - cmdstanpy - INFO - Chain [1] done processing\n",
      "21:30:52 - cmdstanpy - INFO - Chain [1] start processing\n",
      "21:30:52 - cmdstanpy - INFO - Chain [1] done processing\n",
      "21:30:52 - cmdstanpy - INFO - Chain [1] start processing\n",
      "21:30:52 - cmdstanpy - INFO - Chain [1] done processing\n"
     ]
    },
    {
     "name": "stdout",
     "output_type": "stream",
     "text": [
      "\n",
      "정류장 처리 중... (70/79)\n"
     ]
    },
    {
     "name": "stderr",
     "output_type": "stream",
     "text": [
      "21:30:52 - cmdstanpy - INFO - Chain [1] start processing\n",
      "21:30:52 - cmdstanpy - INFO - Chain [1] done processing\n",
      "21:30:52 - cmdstanpy - INFO - Chain [1] start processing\n",
      "21:30:52 - cmdstanpy - INFO - Chain [1] done processing\n",
      "21:30:53 - cmdstanpy - INFO - Chain [1] start processing\n",
      "21:30:53 - cmdstanpy - INFO - Chain [1] done processing\n"
     ]
    },
    {
     "name": "stdout",
     "output_type": "stream",
     "text": [
      "\n",
      "정류장 처리 중... (71/79)\n"
     ]
    },
    {
     "name": "stderr",
     "output_type": "stream",
     "text": [
      "21:30:53 - cmdstanpy - INFO - Chain [1] start processing\n",
      "21:30:53 - cmdstanpy - INFO - Chain [1] done processing\n",
      "21:30:53 - cmdstanpy - INFO - Chain [1] start processing\n",
      "21:30:53 - cmdstanpy - INFO - Chain [1] done processing\n",
      "21:30:53 - cmdstanpy - INFO - Chain [1] start processing\n"
     ]
    },
    {
     "name": "stdout",
     "output_type": "stream",
     "text": [
      "\n",
      "정류장 처리 중... (72/79)\n"
     ]
    },
    {
     "name": "stderr",
     "output_type": "stream",
     "text": [
      "21:30:54 - cmdstanpy - INFO - Chain [1] done processing\n",
      "21:30:54 - cmdstanpy - INFO - Chain [1] start processing\n",
      "21:30:54 - cmdstanpy - INFO - Chain [1] done processing\n",
      "21:30:54 - cmdstanpy - INFO - Chain [1] start processing\n",
      "21:30:54 - cmdstanpy - INFO - Chain [1] done processing\n",
      "21:30:54 - cmdstanpy - INFO - Chain [1] start processing\n",
      "21:30:55 - cmdstanpy - INFO - Chain [1] done processing\n"
     ]
    },
    {
     "name": "stdout",
     "output_type": "stream",
     "text": [
      "\n",
      "정류장 처리 중... (73/79)\n"
     ]
    },
    {
     "name": "stderr",
     "output_type": "stream",
     "text": [
      "21:30:55 - cmdstanpy - INFO - Chain [1] start processing\n",
      "21:30:55 - cmdstanpy - INFO - Chain [1] done processing\n",
      "21:30:55 - cmdstanpy - INFO - Chain [1] start processing\n",
      "21:30:55 - cmdstanpy - INFO - Chain [1] done processing\n",
      "21:30:55 - cmdstanpy - INFO - Chain [1] start processing\n"
     ]
    },
    {
     "name": "stdout",
     "output_type": "stream",
     "text": [
      "\n",
      "정류장 처리 중... (74/79)\n"
     ]
    },
    {
     "name": "stderr",
     "output_type": "stream",
     "text": [
      "21:30:56 - cmdstanpy - INFO - Chain [1] done processing\n",
      "21:30:56 - cmdstanpy - INFO - Chain [1] start processing\n",
      "21:30:56 - cmdstanpy - INFO - Chain [1] done processing\n",
      "21:30:56 - cmdstanpy - INFO - Chain [1] start processing\n",
      "21:30:56 - cmdstanpy - INFO - Chain [1] done processing\n",
      "21:30:56 - cmdstanpy - INFO - Chain [1] start processing\n"
     ]
    },
    {
     "name": "stdout",
     "output_type": "stream",
     "text": [
      "\n",
      "정류장 처리 중... (75/79)\n"
     ]
    },
    {
     "name": "stderr",
     "output_type": "stream",
     "text": [
      "21:30:56 - cmdstanpy - INFO - Chain [1] done processing\n",
      "21:30:57 - cmdstanpy - INFO - Chain [1] start processing\n",
      "21:30:57 - cmdstanpy - INFO - Chain [1] done processing\n",
      "21:30:57 - cmdstanpy - INFO - Chain [1] start processing\n",
      "21:30:57 - cmdstanpy - INFO - Chain [1] done processing\n",
      "21:30:57 - cmdstanpy - INFO - Chain [1] start processing\n"
     ]
    },
    {
     "name": "stdout",
     "output_type": "stream",
     "text": [
      "\n",
      "정류장 처리 중... (76/79)\n"
     ]
    },
    {
     "name": "stderr",
     "output_type": "stream",
     "text": [
      "21:30:58 - cmdstanpy - INFO - Chain [1] done processing\n",
      "21:30:58 - cmdstanpy - INFO - Chain [1] start processing\n",
      "21:30:58 - cmdstanpy - INFO - Chain [1] done processing\n",
      "21:30:58 - cmdstanpy - INFO - Chain [1] start processing\n",
      "21:30:58 - cmdstanpy - INFO - Chain [1] done processing\n",
      "21:30:58 - cmdstanpy - INFO - Chain [1] start processing\n"
     ]
    },
    {
     "name": "stdout",
     "output_type": "stream",
     "text": [
      "\n",
      "정류장 처리 중... (77/79)\n"
     ]
    },
    {
     "name": "stderr",
     "output_type": "stream",
     "text": [
      "21:30:59 - cmdstanpy - INFO - Chain [1] done processing\n",
      "21:30:59 - cmdstanpy - INFO - Chain [1] start processing\n",
      "21:30:59 - cmdstanpy - INFO - Chain [1] done processing\n",
      "21:30:59 - cmdstanpy - INFO - Chain [1] start processing\n",
      "21:30:59 - cmdstanpy - INFO - Chain [1] done processing\n",
      "21:30:59 - cmdstanpy - INFO - Chain [1] start processing\n",
      "21:30:59 - cmdstanpy - INFO - Chain [1] done processing\n"
     ]
    },
    {
     "name": "stdout",
     "output_type": "stream",
     "text": [
      "\n",
      "정류장 처리 중... (78/79)\n"
     ]
    },
    {
     "name": "stderr",
     "output_type": "stream",
     "text": [
      "21:31:00 - cmdstanpy - INFO - Chain [1] start processing\n",
      "21:31:00 - cmdstanpy - INFO - Chain [1] done processing\n",
      "21:31:00 - cmdstanpy - INFO - Chain [1] start processing\n",
      "21:31:00 - cmdstanpy - INFO - Chain [1] done processing\n",
      "21:31:00 - cmdstanpy - INFO - Chain [1] start processing\n"
     ]
    },
    {
     "name": "stdout",
     "output_type": "stream",
     "text": [
      "\n",
      "정류장 처리 중... (79/79)\n"
     ]
    },
    {
     "name": "stderr",
     "output_type": "stream",
     "text": [
      "21:31:00 - cmdstanpy - INFO - Chain [1] done processing\n",
      "21:31:01 - cmdstanpy - INFO - Chain [1] start processing\n",
      "21:31:01 - cmdstanpy - INFO - Chain [1] done processing\n",
      "21:31:01 - cmdstanpy - INFO - Chain [1] start processing\n",
      "21:31:01 - cmdstanpy - INFO - Chain [1] done processing\n"
     ]
    },
    {
     "name": "stdout",
     "output_type": "stream",
     "text": [
      "\n",
      "분석 완료!\n",
      "결과 파일이 저장되었습니다:\n",
      "- prophet_predictions_weekday.csv\n",
      "- prophet_predictions_saturday.csv\n",
      "- prophet_predictions_sunday.csv\n",
      "- prophet_evaluation.csv\n"
     ]
    }
   ],
   "source": [
    "### 3번 블럭: 실행 코드\n",
    "\n",
    "# Prophet 분석 실행\n",
    "print(\"\\nProphet 모델 실행 중...\")\n",
    "weekday_df, saturday_df, sunday_df, evaluation_df = analyze_all_stations_prophet(train_data, test_data)\n",
    "\n",
    "print(\"\\n분석 완료!\")\n",
    "print(\"결과 파일이 저장되었습니다:\")\n",
    "print(\"- prophet_predictions_weekday.csv\")\n",
    "print(\"- prophet_predictions_saturday.csv\")\n",
    "print(\"- prophet_predictions_sunday.csv\")\n",
    "print(\"- prophet_evaluation.csv\")"
   ]
  }
 ],
 "metadata": {
  "kernelspec": {
   "display_name": "base",
   "language": "python",
   "name": "python3"
  },
  "language_info": {
   "codemirror_mode": {
    "name": "ipython",
    "version": 3
   },
   "file_extension": ".py",
   "mimetype": "text/x-python",
   "name": "python",
   "nbconvert_exporter": "python",
   "pygments_lexer": "ipython3",
   "version": "3.11.7"
  }
 },
 "nbformat": 4,
 "nbformat_minor": 2
}
